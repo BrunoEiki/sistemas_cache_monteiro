{
 "cells": [
  {
   "cell_type": "code",
   "execution_count": 35,
   "metadata": {},
   "outputs": [
    {
     "name": "stdout",
     "output_type": "stream",
     "text": [
      "Insira a largura da linha: 8B\n",
      "Insira a capacidade da Memoria Principal(ex-16MB): 16MB\n",
      "Insira a capacidade da Memoria Cache(ex-32KB): 16MB\n",
      "128.0MB\n",
      "Insira a largura da linha (ex-16B): 16B\n",
      "Insira a capacidade da Memoria Principal(ex-64MB): 64MB\n",
      "Insira a quantidade de linhas da Memoria Cache(ex-2K): 2K\n"
     ]
    },
    {
     "data": {
      "text/plain": [
       "'TAG: 11 bits; LINHA: 11 bits; BYTE: 4 bits'"
      ]
     },
     "execution_count": 35,
     "metadata": {},
     "output_type": "execute_result"
    }
   ],
   "source": [
    "# EXEMPLO 01\n",
    "# Calculo da quantidade de bits necessarios para uma determinada memoria cache.\n",
    "#     Considere um sistema de computaçao com uma memoria cache de 32KB de capacidade, constituida de linhas com\n",
    "# 8 bytes de largura. A MP possui uma capacidade de 16MB.\n",
    "\n",
    "\n",
    "\n",
    "def tamanho(num):\n",
    "    count = 0\n",
    "    while num != 1:\n",
    "        count += 1\n",
    "        num = num / 2\n",
    "    return count\n",
    "\n",
    "\n",
    "def conversaomaquina(valor):\n",
    "    num = ''\n",
    "    for i in valor:\n",
    "        if i == 'M' or i == 'K' or i == 'G' or i == 'B':\n",
    "            break\n",
    "        else:\n",
    "            num = num + i\n",
    "    if 'K' in valor:\n",
    "        num = int(num) * 1024\n",
    "    elif 'M' in valor:\n",
    "        num = int(num) * 1048576\n",
    "    elif 'G' in valor:\n",
    "        num = int(num) * 1073741824\n",
    "    return int(num)\n",
    "\n",
    "\n",
    "def conversaohumano(valor):\n",
    "    if valor % 1073741824 == 0:\n",
    "        return f'{valor//1073741824}GB'\n",
    "    elif valor % 1048576 == 0:\n",
    "        return f'{valor//1048576}MB'\n",
    "    elif valor % 1024 == 0:\n",
    "        return f'{valor//1024}KB'\n",
    "\n",
    "\n",
    "\n",
    "def simulador1(mp, cache, largura):\n",
    "    mp = conversaomaquina(mp)\n",
    "    cache = conversaomaquina(cache)\n",
    "    largura = conversaomaquina(largura)\n",
    "\n",
    "    qlinhas = cache/largura\n",
    "    qblocos = mp/largura\n",
    "    \n",
    "    ltag = tamanho(qblocos / qlinhas)\n",
    "    \n",
    "    totdado = cache * largura\n",
    "    tottag = qlinhas * ltag\n",
    "    \n",
    "    \n",
    "    totcache = totdado + tottag\n",
    "    return conversaohumano(totcache)\n",
    "\n",
    "\n",
    "largura = str(input('Insira a largura da linha: '))\n",
    "mp = str(input('Insira a capacidade da Memoria Principal(ex-16MB): '))\n",
    "cache = str(input('Insira a capacidade da Memoria Cache(ex-32KB): '))\n",
    "\n",
    "print(simulador1(mp, cache, largura))\n",
    "\n",
    "\n",
    "\n",
    "# Exemplo 02\n",
    "#     Calculo de formato de endereço para memorias cache com mapeamento direto\n",
    "#     Considere uma MP com 64MB de capacidade associada a uma memoria cache que possui 2K linhas,\n",
    "# cada uma com largura de 16 bytes. Determine o formato do endereço para ser interpretado pelo\n",
    "# sistema de controle da cache\n",
    "\n",
    "def simulador2(mp, qlinhas, largura):\n",
    "    mp = conversaomaquina(mp)\n",
    "    qlinhas = conversaomaquina(qlinhas)\n",
    "    largura = conversaomaquina(largura)\n",
    "    \n",
    "    tb = mp / largura\n",
    "    \n",
    "    byte = tamanho(largura)\n",
    "    linha = tamanho(qlinhas)\n",
    "    tag = tamanho(tb / qlinhas)\n",
    "    \n",
    "    return f'TAG: {tag} bits; LINHA: {linha} bits; BYTE: {byte} bits'\n",
    "\n",
    "\n",
    "largura = str(input('Insira a largura da linha (ex-16B): '))\n",
    "mp = str(input('Insira a capacidade da Memoria Principal(ex-64MB): '))\n",
    "qlinhas = str(input('Insira a quantidade de linhas da Memoria Cache(ex-2K): '))\n",
    "\n",
    "simulador2(mp, qlinhas, largura)"
   ]
  },
  {
   "cell_type": "code",
   "execution_count": null,
   "metadata": {},
   "outputs": [],
   "source": []
  },
  {
   "cell_type": "code",
   "execution_count": null,
   "metadata": {},
   "outputs": [],
   "source": []
  }
 ],
 "metadata": {
  "kernelspec": {
   "display_name": "Python 3.8.5 64-bit",
   "language": "python",
   "name": "python38564bit862c23b62b374b3ea490c6af10ae8c85"
  },
  "language_info": {
   "codemirror_mode": {
    "name": "ipython",
    "version": 3
   },
   "file_extension": ".py",
   "mimetype": "text/x-python",
   "name": "python",
   "nbconvert_exporter": "python",
   "pygments_lexer": "ipython3",
   "version": "3.8.5"
  }
 },
 "nbformat": 4,
 "nbformat_minor": 4
}
